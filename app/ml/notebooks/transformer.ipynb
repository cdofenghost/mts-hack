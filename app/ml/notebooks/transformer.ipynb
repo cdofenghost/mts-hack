{
 "cells": [
  {
   "cell_type": "code",
   "execution_count": null,
   "metadata": {
    "execution": {
     "iopub.execute_input": "2025-05-22T04:51:10.456103Z",
     "iopub.status.busy": "2025-05-22T04:51:10.455849Z",
     "iopub.status.idle": "2025-05-22T04:51:14.273861Z",
     "shell.execute_reply": "2025-05-22T04:51:14.272887Z",
     "shell.execute_reply.started": "2025-05-22T04:51:10.456077Z"
    },
    "trusted": true
   },
   "outputs": [],
   "source": [
    "pip install joblib"
   ]
  },
  {
   "cell_type": "code",
   "execution_count": null,
   "metadata": {
    "_cell_guid": "b1076dfc-b9ad-4769-8c92-a6c4dae69d19",
    "_uuid": "8f2839f25d086af736a60e9eeb907d3b93b6e0e5",
    "execution": {
     "iopub.execute_input": "2025-05-22T06:27:06.084503Z",
     "iopub.status.busy": "2025-05-22T06:27:06.083982Z",
     "iopub.status.idle": "2025-05-22T06:27:06.139253Z",
     "shell.execute_reply": "2025-05-22T06:27:06.138726Z",
     "shell.execute_reply.started": "2025-05-22T06:27:06.084481Z"
    },
    "trusted": true
   },
   "outputs": [],
   "source": [
    "import pandas as pd\n",
    "import numpy as np\n",
    "import torch\n",
    "import torch.nn as nn\n",
    "from torch.utils.data import Dataset, DataLoader\n",
    "from sklearn.preprocessing import LabelEncoder, MinMaxScaler\n",
    "from sklearn.metrics import r2_score\n",
    "import matplotlib.pyplot as plt\n",
    "\n",
    "INPUT_STEPS = 72  \n",
    "OUTPUT_STEPS = 72  \n",
    "BATCH_SIZE = 16\n",
    "\n",
    "LR = 1e-4\n",
    "DEVICE = 'cuda' if torch.cuda.is_available() else 'cpu'\n",
    "\n",
    "df = pd.read_csv('/kaggle/input/u-novus/data/all.csv')\n",
    "df['Период'] = pd.to_datetime(df['Период'], format='%Y-%m-%d %H:%M:%S')\n",
    "df = df.sort_values('Период').dropna()\n",
    "df['Пост мониторинга'] = LabelEncoder().fit_transform(df['Пост мониторинга'])\n",
    "df = df.drop(columns=['NO2', 'O3', 'H2S', 'CO', 'SO2'])\n",
    "\n",
    "features = ['Температура, °С', 'Давление, мм рт. ст.', 'Влажность, %', 'Скорость ветра, м/с', 'Направление ветра, °']\n",
    "\n",
    "scaler = MinMaxScaler()\n",
    "df[features] = scaler.fit_transform(df[features])"
   ]
  },
  {
   "cell_type": "code",
   "execution_count": null,
   "metadata": {
    "execution": {
     "iopub.execute_input": "2025-05-22T06:27:09.673583Z",
     "iopub.status.busy": "2025-05-22T06:27:09.673093Z",
     "iopub.status.idle": "2025-05-22T06:27:09.681458Z",
     "shell.execute_reply": "2025-05-22T06:27:09.680811Z",
     "shell.execute_reply.started": "2025-05-22T06:27:09.673560Z"
    },
    "trusted": true
   },
   "outputs": [],
   "source": [
    "test_gap = 72 \n",
    "train_data = df.iloc[:-OUTPUT_STEPS - test_gap]\n",
    "test_input_start = -OUTPUT_STEPS - test_gap + INPUT_STEPS\n",
    "test_data = df.iloc[test_input_start:test_input_start + OUTPUT_STEPS]\n",
    "\n",
    "class TimeSeriesDataset(Dataset):\n",
    "    def __init__(self, data, input_steps, output_steps, features):\n",
    "        self.data = data[features].values.astype(np.float32)\n",
    "        self.input_steps = input_steps\n",
    "        self.output_steps = output_steps\n",
    "\n",
    "    def __len__(self):\n",
    "        return len(self.data) - self.input_steps - self.output_steps + 1\n",
    "\n",
    "    def __getitem__(self, idx):\n",
    "        x = self.data[idx:idx+self.input_steps]\n",
    "        y = self.data[idx+self.input_steps:idx+self.input_steps+self.output_steps]\n",
    "        return torch.tensor(x), torch.tensor(y)\n",
    "\n",
    "train_dataset = TimeSeriesDataset(train_data, INPUT_STEPS, OUTPUT_STEPS, features)\n",
    "train_loader = DataLoader(train_dataset, batch_size=BATCH_SIZE, shuffle=True)\n"
   ]
  },
  {
   "cell_type": "code",
   "execution_count": null,
   "metadata": {
    "execution": {
     "iopub.execute_input": "2025-05-22T04:51:19.423876Z",
     "iopub.status.busy": "2025-05-22T04:51:19.423671Z",
     "iopub.status.idle": "2025-05-22T04:51:19.475554Z",
     "shell.execute_reply": "2025-05-22T04:51:19.474874Z",
     "shell.execute_reply.started": "2025-05-22T04:51:19.423857Z"
    },
    "trusted": true
   },
   "outputs": [],
   "source": [
    "'''\n",
    "class TransformerModel(nn.Module):\n",
    "    def __init__(self, input_dim, model_dim=64, num_heads=4, num_layers=2, dropout=0.1):\n",
    "        super().__init__()\n",
    "        self.input_proj = nn.Linear(input_dim, model_dim)\n",
    "        encoder_layer = nn.TransformerEncoderLayer(d_model=model_dim, nhead=num_heads, dropout=dropout, batch_first=True)\n",
    "        self.encoder = nn.TransformerEncoder(encoder_layer, num_layers=num_layers)\n",
    "        self.decoder = nn.Sequential(\n",
    "            nn.Linear(model_dim, 128),\n",
    "            nn.ReLU(),\n",
    "            nn.Linear(128, input_dim)\n",
    "        )\n",
    "\n",
    "    def forward(self, x):\n",
    "        x = self.input_proj(x)\n",
    "        x = self.encoder(x)\n",
    "        out = self.decoder(x)\n",
    "        return out\n",
    "\n",
    "model = TransformerModel(len(features)).to(DEVICE)\n",
    "optimizer = torch.optim.Adam(model.parameters(), lr=LR)\n",
    "criterion = nn.MSELoss()\n",
    "EPOCHS = 20\n",
    "for epoch in range(EPOCHS):\n",
    "    model.train()\n",
    "    epoch_losses = []\n",
    "    preds_all = []\n",
    "    targets_all = []\n",
    "\n",
    "    for xb, yb in train_loader:\n",
    "        xb, yb = xb.to(DEVICE), yb.to(DEVICE)\n",
    "        pred_seq = []\n",
    "        input_seq = xb.clone()\n",
    "        for _ in range(OUTPUT_STEPS):\n",
    "            output = model(input_seq)\n",
    "            next_step = output[:, -1]\n",
    "            pred_seq.append(next_step.unsqueeze(1))\n",
    "            input_seq = torch.cat((input_seq[:, 1:], next_step.unsqueeze(1)), dim=1)\n",
    "        pred = torch.cat(pred_seq, dim=1)\n",
    "\n",
    "        loss = criterion(pred, yb)\n",
    "        optimizer.zero_grad()\n",
    "        loss.backward()\n",
    "        optimizer.step()\n",
    "\n",
    "        epoch_losses.append(loss.item())\n",
    "        preds_all.append(pred.detach().cpu().numpy())\n",
    "        targets_all.append(yb.detach().cpu().numpy())\n",
    "\n",
    "    preds_all = np.concatenate(preds_all, axis=0).reshape(-1, len(features))\n",
    "    targets_all = np.concatenate(targets_all, axis=0).reshape(-1, len(features))\n",
    "    r2_scores = [r2_score(targets_all[:, i], preds_all[:, i]) for i in range(len(features))]\n",
    "    r2_str = ', '.join([f'R2_{features[i]}: {r2_scores[i]:.3f}' for i in range(len(features))])\n",
    "    print(f\"Epoch {epoch+1}/{EPOCHS}, Loss: {np.mean(epoch_losses):.4f}, {r2_str}\")'''"
   ]
  },
  {
   "cell_type": "code",
   "execution_count": null,
   "metadata": {
    "execution": {
     "iopub.execute_input": "2025-05-22T04:51:19.476480Z",
     "iopub.status.busy": "2025-05-22T04:51:19.476216Z",
     "iopub.status.idle": "2025-05-22T04:51:19.495076Z",
     "shell.execute_reply": "2025-05-22T04:51:19.494469Z",
     "shell.execute_reply.started": "2025-05-22T04:51:19.476463Z"
    },
    "trusted": true
   },
   "outputs": [],
   "source": [
    "'''df_test = pd.read_csv('/kaggle/input/u-novus/data/test.csv')\n",
    "df_test['Период'] = pd.to_datetime(df_test['Период'], format='%Y-%m-%d %H:%M:%S', errors='coerce')\n",
    "df_test = df_test.dropna(subset=['Период'])\n",
    "df_test['Пост мониторинга'] = LabelEncoder().fit_transform(df_test['Пост мониторинга'])\n",
    "df_test = df_test.drop(columns=['NO2', 'O3', 'H2S', 'CO', 'SO2'])\n",
    "\n",
    "TEST_X = df_test[['Пост мониторинга', 'Период']]\n",
    "TEST_Y = df_test[features].values\n",
    "\n",
    "X_input = df[features].values[-INPUT_STEPS:].astype(np.float32)\n",
    "X_input = torch.tensor(X_input).unsqueeze(0).to(DEVICE)\n",
    "\n",
    "model.eval()\n",
    "predictions = []\n",
    "with torch.no_grad():\n",
    "    for _ in range(OUTPUT_STEPS):\n",
    "        out_seq = model(X_input)\n",
    "        next_step = out_seq[:, -1, :]\n",
    "        predictions.append(next_step.cpu().numpy())\n",
    "        X_input = torch.cat((X_input[:, 1:], next_step.unsqueeze(1)), dim=1)\n",
    "\n",
    "predicted = np.stack(predictions, axis=1).squeeze(0)\n",
    "predicted = scaler.inverse_transform(predicted)\n",
    "true = TEST_Y\n",
    "\n",
    "plt.figure(figsize=(18, 12))\n",
    "time_index = df_test['Период'].values\n",
    "for i, feature in enumerate(features):\n",
    "    plt.subplot(3, 2, i+1)\n",
    "    plt.plot(time_index, true[:, i], label='Истинные')\n",
    "    plt.plot(time_index, predicted[:, i], label='Предсказанные')\n",
    "    plt.title(feature)\n",
    "    plt.xlabel('Время')\n",
    "    plt.ylabel(feature)\n",
    "    plt.legend()\n",
    "\n",
    "plt.tight_layout()\n",
    "plt.show()'''"
   ]
  },
  {
   "cell_type": "code",
   "execution_count": null,
   "metadata": {
    "execution": {
     "iopub.execute_input": "2025-05-22T04:51:19.495959Z",
     "iopub.status.busy": "2025-05-22T04:51:19.495681Z",
     "iopub.status.idle": "2025-05-22T04:51:19.512364Z",
     "shell.execute_reply": "2025-05-22T04:51:19.511846Z",
     "shell.execute_reply.started": "2025-05-22T04:51:19.495935Z"
    },
    "trusted": true
   },
   "outputs": [],
   "source": [
    "'''torch.save(model.state_dict(), \"/kaggle/working/m1.pth\")'''"
   ]
  },
  {
   "cell_type": "code",
   "execution_count": null,
   "metadata": {
    "execution": {
     "iopub.execute_input": "2025-05-22T06:19:14.666940Z",
     "iopub.status.busy": "2025-05-22T06:19:14.666363Z",
     "iopub.status.idle": "2025-05-22T06:20:36.658922Z",
     "shell.execute_reply": "2025-05-22T06:20:36.658201Z",
     "shell.execute_reply.started": "2025-05-22T06:19:14.666915Z"
    },
    "trusted": true
   },
   "outputs": [],
   "source": [
    "class TransformerModel(nn.Module):\n",
    "    def __init__(self, input_dim, model_dim=128, num_heads=4, num_layers=4, dropout=0.2):\n",
    "        super().__init__()\n",
    "        self.input_proj = nn.Linear(input_dim, model_dim)\n",
    "        encoder_layer = nn.TransformerEncoderLayer(d_model=model_dim, nhead=num_heads, dropout=dropout, batch_first=True)\n",
    "        self.encoder = nn.TransformerEncoder(encoder_layer, num_layers=num_layers)\n",
    "        self.decoder = nn.Sequential(\n",
    "            nn.Linear(model_dim, 128),\n",
    "            nn.ReLU(),\n",
    "            nn.Linear(128, input_dim * OUTPUT_STEPS)\n",
    "        )\n",
    "        self.input_dim = input_dim\n",
    "        self.output_steps = OUTPUT_STEPS\n",
    "\n",
    "    def forward(self, x):\n",
    "        x = self.input_proj(x)  \n",
    "        x = self.encoder(x)     \n",
    "        x = x[:, -1, :]         \n",
    "        x = self.decoder(x)    \n",
    "        x = x.view(-1, self.output_steps, self.input_dim)  \n",
    "        return x\n",
    "\n",
    "model = TransformerModel(len(features)).to(DEVICE)\n",
    "optimizer = torch.optim.Adam(model.parameters(), lr=LR)\n",
    "criterion = nn.L1Loss()\n",
    "\n",
    "EPOCHS = 20\n",
    "for epoch in range(EPOCHS):\n",
    "    model.train()\n",
    "    epoch_losses = []\n",
    "    preds_all = []\n",
    "    targets_all = []\n",
    "\n",
    "    for xb, yb in train_loader:\n",
    "        xb, yb = xb.to(DEVICE), yb.to(DEVICE)\n",
    "        pred = model(xb) \n",
    "        loss = criterion(pred, yb)\n",
    "        optimizer.zero_grad()\n",
    "        loss.backward()\n",
    "        optimizer.step()\n",
    "\n",
    "        epoch_losses.append(loss.item())\n",
    "        preds_all.append(pred.detach().cpu().numpy())\n",
    "        targets_all.append(yb.detach().cpu().numpy())\n",
    "\n",
    "    preds_all = np.concatenate(preds_all, axis=0).reshape(-1, len(features))\n",
    "    targets_all = np.concatenate(targets_all, axis=0).reshape(-1, len(features))\n",
    "    r2_scores = [r2_score(targets_all[:, i], preds_all[:, i]) for i in range(len(features))]\n",
    "    r2_str = ', '.join([f'R2_{features[i]}: {r2_scores[i]:.3f}' for i in range(len(features))])\n",
    "    print(f\"Epoch {epoch+1}/{EPOCHS}, Loss: {np.mean(epoch_losses):.4f}, {r2_str}\")"
   ]
  },
  {
   "cell_type": "code",
   "execution_count": null,
   "metadata": {
    "execution": {
     "iopub.execute_input": "2025-05-22T06:28:21.300511Z",
     "iopub.status.busy": "2025-05-22T06:28:21.299952Z",
     "iopub.status.idle": "2025-05-22T06:28:21.318361Z",
     "shell.execute_reply": "2025-05-22T06:28:21.317738Z",
     "shell.execute_reply.started": "2025-05-22T06:28:21.300490Z"
    },
    "trusted": true
   },
   "outputs": [],
   "source": [
    "from sklearn.metrics import mean_absolute_error, mean_squared_error, r2_score\n",
    "\n",
    "INPUT_STEPS = 72\n",
    "OUTPUT_STEPS = 72\n",
    "test_gap = 72 \n",
    "VAL_TOTAL = INPUT_STEPS + OUTPUT_STEPS  # 144\n",
    "\n",
    "val_start = - (VAL_TOTAL + test_gap)\n",
    "val_end = val_start + VAL_TOTAL\n",
    "val_data = df.iloc[val_start:val_end]\n",
    "\n",
    "assert len(val_data) == VAL_TOTAL, f\"val_data слишком короткий: {len(val_data)} < {VAL_TOTAL}\"\n",
    "\n",
    "val_seq = val_data[features].values.astype(np.float32)\n",
    "X_val = torch.tensor(val_seq[:INPUT_STEPS]).unsqueeze(0).to(DEVICE)  \n",
    "y_true = val_seq[INPUT_STEPS:INPUT_STEPS + OUTPUT_STEPS]  \n",
    "\n",
    "model.eval()\n",
    "with torch.no_grad():\n",
    "    y_pred = model(X_val).squeeze(0).cpu().numpy() \n",
    "\n",
    "if 'scaler' in globals():\n",
    "    y_pred = scaler.inverse_transform(y_pred)\n",
    "    y_true = scaler.inverse_transform(y_true)\n",
    "\n",
    "print(\"\\n------- Метрики по каждому признаку (валидация) -------\")\n",
    "for i, feat in enumerate(features):\n",
    "    mae = mean_absolute_error(y_true[:, i], y_pred[:, i])\n",
    "    rmse = mean_squared_error(y_true[:, i], y_pred[:, i], squared=False)\n",
    "    r2 = r2_score(y_true[:, i], y_pred[:, i])\n",
    "    print(f\"{feat:<30}: MAE = {mae:.3f}, RMSE = {rmse:.3f}, R² = {r2:.3f}\")\n",
    "\n",
    "\n",
    "mae_total = mean_absolute_error(y_true, y_pred)\n",
    "rmse_total = mean_squared_error(y_true, y_pred, squared=False)\n",
    "r2_total = r2_score(y_true, y_pred)\n",
    "print(\"\\n------- Общие метрики (валидация) -------\")\n",
    "print(f\"MAE = {mae_total:.3f}, RMSE = {rmse_total:.3f}, R² = {r2_total:.3f}\")\n"
   ]
  },
  {
   "cell_type": "code",
   "execution_count": null,
   "metadata": {
    "execution": {
     "iopub.execute_input": "2025-05-22T05:02:20.421726Z",
     "iopub.status.busy": "2025-05-22T05:02:20.421428Z",
     "iopub.status.idle": "2025-05-22T05:02:21.516086Z",
     "shell.execute_reply": "2025-05-22T05:02:21.515097Z",
     "shell.execute_reply.started": "2025-05-22T05:02:20.421706Z"
    },
    "trusted": true
   },
   "outputs": [],
   "source": [
    "df_test = pd.read_csv('/kaggle/input/u-novus/data/test.csv')\n",
    "df_test['Период'] = pd.to_datetime(df_test['Период'], format='%Y-%m-%d %H:%M:%S', errors='coerce')\n",
    "df_test = df_test.dropna(subset=['Период'])\n",
    "df_test['Пост мониторинга'] = LabelEncoder().fit_transform(df_test['Пост мониторинга'])\n",
    "df_test = df_test.drop(columns=['NO2', 'O3', 'H2S', 'CO', 'SO2'])\n",
    "\n",
    "TEST_X = df_test[['Пост мониторинга', 'Период']]\n",
    "TEST_Y = df_test[features].values\n",
    "\n",
    "X_input = df[features].values[-INPUT_STEPS:].astype(np.float32)\n",
    "X_input = torch.tensor(X_input).unsqueeze(0).to(DEVICE)\n",
    "\n",
    "\n",
    "model.eval()\n",
    "with torch.no_grad():\n",
    "    y_pred_scaled = model(X_input).squeeze(0).cpu().numpy() \n",
    "\n",
    "predicted = scaler.inverse_transform(y_pred_scaled)  \n",
    "true = TEST_Y\n",
    "\n",
    "plt.figure(figsize=(18, 12))\n",
    "time_index = df_test['Период'].values\n",
    "for i, feature in enumerate(features):\n",
    "    plt.subplot(3, 2, i+1)\n",
    "    plt.plot(time_index, true[:, i], label='Истинные')\n",
    "    plt.plot(time_index, predicted[:, i], label='Предсказанные')\n",
    "    plt.title(feature)\n",
    "    plt.xlabel('Время')\n",
    "    plt.ylabel(feature)\n",
    "    plt.legend()\n",
    "\n",
    "plt.tight_layout()\n",
    "plt.show()"
   ]
  },
  {
   "cell_type": "code",
   "execution_count": null,
   "metadata": {
    "execution": {
     "iopub.execute_input": "2025-05-22T05:02:38.829759Z",
     "iopub.status.busy": "2025-05-22T05:02:38.829454Z",
     "iopub.status.idle": "2025-05-22T05:02:38.840007Z",
     "shell.execute_reply": "2025-05-22T05:02:38.839327Z",
     "shell.execute_reply.started": "2025-05-22T05:02:38.829739Z"
    },
    "trusted": true
   },
   "outputs": [],
   "source": [
    "from sklearn.metrics import r2_score, mean_squared_error\n",
    "import numpy as np\n",
    "\n",
    "r2_scores = []\n",
    "mse_scores = []\n",
    "rmse_scores = []\n",
    "\n",
    "for i, feature in enumerate(features):\n",
    "    y_true = true[:, i]\n",
    "    y_pred = predicted[:, i]\n",
    "    r2 = r2_score(y_true, y_pred)\n",
    "    mse = mean_squared_error(y_true, y_pred)\n",
    "    rmse = np.sqrt(mse)\n",
    "\n",
    "    r2_scores.append(r2)\n",
    "    mse_scores.append(mse)\n",
    "    rmse_scores.append(rmse)\n",
    "\n",
    "    print(f\"{feature}:\")\n",
    "    print(f\"  R²:   {r2:.4f}\")\n",
    "    print(f\"  MSE:  {mse:.4f}\")\n",
    "    print(f\"  RMSE: {rmse:.4f}\")\n",
    "    print()\n",
    "\n",
    "print(\"Средние метрики по всем признакам:\")\n",
    "print(f\"  R²:   {np.mean(r2_scores):.4f}\")\n",
    "print(f\"  MSE:  {np.mean(mse_scores):.4f}\")\n",
    "print(f\"  RMSE: {np.mean(rmse_scores):.4f}\")"
   ]
  },
  {
   "cell_type": "code",
   "execution_count": null,
   "metadata": {
    "execution": {
     "iopub.execute_input": "2025-05-22T05:02:53.980929Z",
     "iopub.status.busy": "2025-05-22T05:02:53.980204Z",
     "iopub.status.idle": "2025-05-22T05:02:54.005480Z",
     "shell.execute_reply": "2025-05-22T05:02:54.004952Z",
     "shell.execute_reply.started": "2025-05-22T05:02:53.980904Z"
    },
    "trusted": true
   },
   "outputs": [],
   "source": [
    "import joblib\n",
    "\n",
    "joblib.dump(scaler, \"/kaggle/working/scaler.pkl\")\n",
    "torch.save(model.state_dict(), \"/kaggle/working/m2.pth\")"
   ]
  },
  {
   "cell_type": "code",
   "execution_count": null,
   "metadata": {
    "execution": {
     "iopub.execute_input": "2025-05-22T05:03:13.252792Z",
     "iopub.status.busy": "2025-05-22T05:03:13.252324Z",
     "iopub.status.idle": "2025-05-22T05:03:13.256657Z",
     "shell.execute_reply": "2025-05-22T05:03:13.255886Z",
     "shell.execute_reply.started": "2025-05-22T05:03:13.252770Z"
    },
    "trusted": true
   },
   "outputs": [],
   "source": [
    "import torch\n",
    "import joblib\n",
    "import pandas as pd\n",
    "from sklearn.preprocessing import MinMaxScaler"
   ]
  },
  {
   "cell_type": "code",
   "execution_count": null,
   "metadata": {
    "execution": {
     "iopub.execute_input": "2025-05-22T05:03:17.382307Z",
     "iopub.status.busy": "2025-05-22T05:03:17.381610Z",
     "iopub.status.idle": "2025-05-22T05:03:17.388176Z",
     "shell.execute_reply": "2025-05-22T05:03:17.387526Z",
     "shell.execute_reply.started": "2025-05-22T05:03:17.382284Z"
    },
    "trusted": true
   },
   "outputs": [],
   "source": [
    "class TransformerModel(nn.Module):\n",
    "    def __init__(self, input_dim, model_dim=128, num_heads=4, num_layers=4, dropout=0.2):\n",
    "        super().__init__()\n",
    "        self.input_proj = nn.Linear(input_dim, model_dim)\n",
    "        encoder_layer = nn.TransformerEncoderLayer(d_model=model_dim, nhead=num_heads, dropout=dropout, batch_first=True)\n",
    "        self.encoder = nn.TransformerEncoder(encoder_layer, num_layers=num_layers)\n",
    "        self.decoder = nn.Sequential(\n",
    "            nn.Linear(model_dim, 128),\n",
    "            nn.ReLU(),\n",
    "            nn.Linear(128, input_dim * OUTPUT_STEPS)\n",
    "        )\n",
    "        self.input_dim = input_dim\n",
    "        self.output_steps = OUTPUT_STEPS\n",
    "\n",
    "    def forward(self, x):\n",
    "        x = self.input_proj(x)  \n",
    "        x = self.encoder(x)     \n",
    "        x = x[:, -1, :]        \n",
    "        x = self.decoder(x)     \n",
    "        x = x.view(-1, self.output_steps, self.input_dim) \n",
    "        return x"
   ]
  },
  {
   "cell_type": "code",
   "execution_count": null,
   "metadata": {
    "execution": {
     "iopub.execute_input": "2025-05-22T05:03:22.468813Z",
     "iopub.status.busy": "2025-05-22T05:03:22.468182Z",
     "iopub.status.idle": "2025-05-22T05:03:22.515015Z",
     "shell.execute_reply": "2025-05-22T05:03:22.514365Z",
     "shell.execute_reply.started": "2025-05-22T05:03:22.468794Z"
    },
    "trusted": true
   },
   "outputs": [],
   "source": [
    "DEVICE = 'cuda' if torch.cuda.is_available() else 'cpu'\n",
    "features = ['Температура, °С', 'Давление, мм рт. ст.', 'Влажность, %', 'Скорость ветра, м/с', 'Направление ветра, °']\n",
    "\n",
    "scaler = joblib.load(\"/kaggle/working/scaler.pkl\")\n",
    "\n",
    "model = TransformerModel(input_dim=len(features))\n",
    "model.load_state_dict(torch.load(\"/kaggle/working/m2.pth\", map_location=DEVICE))\n",
    "model.to(DEVICE)\n",
    "model.eval()"
   ]
  },
  {
   "cell_type": "code",
   "execution_count": null,
   "metadata": {
    "execution": {
     "iopub.execute_input": "2025-05-22T05:11:23.398044Z",
     "iopub.status.busy": "2025-05-22T05:11:23.397374Z",
     "iopub.status.idle": "2025-05-22T05:11:23.427614Z",
     "shell.execute_reply": "2025-05-22T05:11:23.426944Z",
     "shell.execute_reply.started": "2025-05-22T05:11:23.398019Z"
    },
    "trusted": true
   },
   "outputs": [],
   "source": [
    "new_data = pd.read_csv('/kaggle/input/test-transormer/test/real.csv')  # путь к новому файлу\n",
    "new_data['Период'] = pd.to_datetime(new_data['Период'])\n",
    "new_data = new_data.sort_values('Период').dropna()\n",
    "new_data['Пост мониторинга'] = LabelEncoder().fit_transform(new_data['Пост мониторинга'])\n",
    "new_data = new_data.drop(columns=['NO2', 'O3', 'H2S', 'CO', 'SO2'])\n",
    "\n",
    "new_data[features] = scaler.transform(new_data[features])\n",
    "\n",
    "INPUT_STEPS = 72\n",
    "X_input = new_data[features].values[-INPUT_STEPS:].astype(np.float32)\n",
    "X_input = torch.tensor(X_input).unsqueeze(0).to(DEVICE)  # [1, 72, 5]"
   ]
  },
  {
   "cell_type": "code",
   "execution_count": null,
   "metadata": {
    "execution": {
     "iopub.execute_input": "2025-05-22T05:11:27.045777Z",
     "iopub.status.busy": "2025-05-22T05:11:27.045034Z",
     "iopub.status.idle": "2025-05-22T05:11:27.067103Z",
     "shell.execute_reply": "2025-05-22T05:11:27.066405Z",
     "shell.execute_reply.started": "2025-05-22T05:11:27.045747Z"
    },
    "trusted": true
   },
   "outputs": [],
   "source": [
    "OUTPUT_STEPS = 72\n",
    "\n",
    "with torch.no_grad():\n",
    "    y_pred_scaled = model(X_input).squeeze(0).cpu().numpy()  \n",
    "\n",
    "predicted = scaler.inverse_transform(y_pred_scaled)\n",
    "\n",
    "future_periods = pd.date_range(\n",
    "    start=new_data['Период'].iloc[-1] + pd.Timedelta(minutes=20),\n",
    "    periods=OUTPUT_STEPS,\n",
    "    freq='20min'\n",
    ")\n",
    "\n",
    "df_pred = pd.DataFrame(predicted, columns=features)\n",
    "df_pred.insert(0, 'Период', future_periods)\n",
    "\n",
    "df_pred.to_csv(\"/kaggle/working/prediction.csv\", index=False)"
   ]
  },
  {
   "cell_type": "code",
   "execution_count": null,
   "metadata": {
    "execution": {
     "iopub.execute_input": "2025-05-22T05:13:36.279904Z",
     "iopub.status.busy": "2025-05-22T05:13:36.279269Z",
     "iopub.status.idle": "2025-05-22T05:13:36.290326Z",
     "shell.execute_reply": "2025-05-22T05:13:36.289492Z",
     "shell.execute_reply.started": "2025-05-22T05:13:36.279878Z"
    },
    "trusted": true
   },
   "outputs": [],
   "source": [
    "df_pred['Период'] = pd.to_datetime(df_pred['Период'])\n",
    "\n",
    "mask = df_pred['Период'].dt.time.between(pd.to_datetime(\"08:00\").time(), pd.to_datetime(\"10:00\").time())\n",
    "df_filtered = df_pred[mask]\n",
    "\n",
    "df_filtered.to_csv(\"/kaggle/working/prediction_08_10.csv\", index=False)"
   ]
  }
 ],
 "metadata": {
  "kaggle": {
   "accelerator": "none",
   "dataSources": [
    {
     "datasetId": 7480137,
     "sourceId": 11899475,
     "sourceType": "datasetVersion"
    },
    {
     "datasetId": 7482967,
     "sourceId": 11903878,
     "sourceType": "datasetVersion"
    }
   ],
   "dockerImageVersionId": 31041,
   "isGpuEnabled": false,
   "isInternetEnabled": true,
   "language": "python",
   "sourceType": "notebook"
  },
  "kernelspec": {
   "display_name": "Python 3",
   "language": "python",
   "name": "python3"
  },
  "language_info": {
   "codemirror_mode": {
    "name": "ipython",
    "version": 3
   },
   "file_extension": ".py",
   "mimetype": "text/x-python",
   "name": "python",
   "nbconvert_exporter": "python",
   "pygments_lexer": "ipython3",
   "version": "3.11.11"
  }
 },
 "nbformat": 4,
 "nbformat_minor": 4
}
